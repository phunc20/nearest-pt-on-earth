{
 "cells": [
  {
   "cell_type": "code",
   "execution_count": 1,
   "id": "indie-titanium",
   "metadata": {},
   "outputs": [],
   "source": [
    "import random\n",
    "from geopy.distance import geodesic, great_circle"
   ]
  },
  {
   "cell_type": "code",
   "execution_count": 2,
   "id": "overall-spank",
   "metadata": {},
   "outputs": [],
   "source": [
    "distance = geodesic\n",
    "#distance = great_circle"
   ]
  },
  {
   "cell_type": "code",
   "execution_count": 3,
   "id": "featured-capacity",
   "metadata": {},
   "outputs": [
    {
     "name": "stdout",
     "output_type": "stream",
     "text": [
      "Help on method uniform in module random:\n",
      "\n",
      "uniform(a, b) method of random.Random instance\n",
      "    Get a random number in the range [a, b) or [a, b] depending on rounding.\n",
      "\n"
     ]
    }
   ],
   "source": [
    "help(random.uniform)"
   ]
  },
  {
   "cell_type": "markdown",
   "id": "square-perspective",
   "metadata": {},
   "source": [
    "### `coord = (latitude, longitude)`"
   ]
  },
  {
   "cell_type": "code",
   "execution_count": 4,
   "id": "infectious-strand",
   "metadata": {},
   "outputs": [
    {
     "data": {
      "text/plain": [
       "Distance(0.0)"
      ]
     },
     "execution_count": 4,
     "metadata": {},
     "output_type": "execute_result"
    }
   ],
   "source": [
    "A = (45, -180)\n",
    "B = (45, 180)\n",
    "distance(A, B)"
   ]
  },
  {
   "cell_type": "code",
   "execution_count": 5,
   "id": "vietnamese-minneapolis",
   "metadata": {},
   "outputs": [
    {
     "data": {
      "text/plain": [
       "111.31949079327356"
      ]
     },
     "execution_count": 5,
     "metadata": {},
     "output_type": "execute_result"
    }
   ],
   "source": [
    "A = (0, -181)\n",
    "B = (0, 180)\n",
    "distance(A, B).km"
   ]
  },
  {
   "cell_type": "code",
   "execution_count": 6,
   "id": "bridal-investigator",
   "metadata": {},
   "outputs": [
    {
     "data": {
      "text/plain": [
       "2226.389815865471"
      ]
     },
     "execution_count": 6,
     "metadata": {},
     "output_type": "execute_result"
    }
   ],
   "source": [
    "A = (0, -200)\n",
    "B = (0, 180)\n",
    "distance(A, B).km"
   ]
  },
  {
   "cell_type": "code",
   "execution_count": 7,
   "id": "noticed-jackson",
   "metadata": {},
   "outputs": [
    {
     "data": {
      "text/plain": [
       "(111.31944444444444, 2226.3888888888887)"
      ]
     },
     "execution_count": 7,
     "metadata": {},
     "output_type": "execute_result"
    }
   ],
   "source": [
    "equator_km = 40_075  # according to wikipedia\n",
    "equator_km / 360, equator_km / 360 * 20 "
   ]
  },
  {
   "cell_type": "code",
   "execution_count": 8,
   "id": "medium-costa",
   "metadata": {},
   "outputs": [],
   "source": [
    "n_points = 10_000"
   ]
  },
  {
   "cell_type": "code",
   "execution_count": 9,
   "id": "sublime-beaver",
   "metadata": {},
   "outputs": [
    {
     "data": {
      "text/plain": [
       "[(82.86003960431034, -68.95705060441185),\n",
       " (-47.687769789915826, 28.46717012177095),\n",
       " (-67.13017956959993, 113.59936182631094),\n",
       " (23.322918280980105, 178.76024332155356),\n",
       " (-6.79049986494995, -26.96700080136401),\n",
       " (-55.457125643988114, -117.60860635553739),\n",
       " (-15.063121564110332, -34.79118641534782)]"
      ]
     },
     "execution_count": 9,
     "metadata": {},
     "output_type": "execute_result"
    }
   ],
   "source": [
    "points = [(random.uniform(-90, 90), random.uniform(-180, 180)) for _ in range(n_points)]\n",
    "points[:7]"
   ]
  },
  {
   "cell_type": "code",
   "execution_count": 10,
   "id": "amino-permission",
   "metadata": {},
   "outputs": [],
   "source": [
    "twice_equator_km = 2*equator_km"
   ]
  },
  {
   "cell_type": "code",
   "execution_count": 11,
   "id": "solved-brake",
   "metadata": {},
   "outputs": [],
   "source": [
    "from tqdm import tqdm"
   ]
  },
  {
   "cell_type": "code",
   "execution_count": 12,
   "id": "compound-skill",
   "metadata": {},
   "outputs": [
    {
     "name": "stderr",
     "output_type": "stream",
     "text": [
      "100%|██████████| 10/10 [00:05<00:00,  1.99it/s]\n"
     ]
    }
   ],
   "source": [
    "import time\n",
    "for i in tqdm(range(10)):\n",
    "    time.sleep(0.5)"
   ]
  },
  {
   "cell_type": "raw",
   "id": "patent-creator",
   "metadata": {},
   "source": [
    "def brute_force_nearest(coordinates):\n",
    "    L = [0 for _ in range(len(coordinates))]\n",
    "    for a, coorA in enumerate(coordinates):\n",
    "        shortest = twice_equator_km\n",
    "        for b, coorB in enumerate(coordinates):\n",
    "            if a == b:\n",
    "                continue\n",
    "            dist = distance(coorA, coorB).km\n",
    "            if dist < shortest:\n",
    "                L[a] = b\n",
    "                shortest = dist\n",
    "    return L"
   ]
  },
  {
   "cell_type": "code",
   "execution_count": 13,
   "id": "distinct-brother",
   "metadata": {},
   "outputs": [],
   "source": [
    "def brute_force_nearest(coordinates):\n",
    "    L = [0 for _ in range(len(coordinates))]\n",
    "    for a, coorA in tqdm(enumerate(coordinates)):\n",
    "        shortest = twice_equator_km\n",
    "        for b, coorB in enumerate(coordinates):\n",
    "            if a == b:\n",
    "                continue\n",
    "            dist = distance(coorA, coorB).km\n",
    "            if dist < shortest:\n",
    "                L[a] = b\n",
    "                shortest = dist\n",
    "    return L"
   ]
  },
  {
   "cell_type": "raw",
   "id": "after-amsterdam",
   "metadata": {},
   "source": [
    "def brute_force_nearest(coordinates):\n",
    "    L = [0 for _ in range(len(coordinates))]\n",
    "    for a, coorA in tqdm(enumerate(coordinates)):\n",
    "        shortest = twice_equator_km\n",
    "        for b, coorB in tqdm(enumerate(coordinates)):\n",
    "            if a == b:\n",
    "                continue\n",
    "            dist = distance(coorA, coorB).km\n",
    "            if dist < shortest:\n",
    "                L[a] = b\n",
    "                shortest = dist\n",
    "    return L"
   ]
  },
  {
   "cell_type": "markdown",
   "id": "mexican-origin",
   "metadata": {},
   "source": [
    "`tqdm` seems to work less well in a function? Anyway, the next cell will show things like<br>\n",
    "`22it [01:15,  3.49s/it]`, where\n",
    "- `22it` means that it is running the `22`-th iteration\n",
    "- `3.49s/it` means that so far it takes in average `3.49` seconds to finish one iteration\n",
    "\n",
    "On my thinkpad X220, it would take quite a long time for the cell to finish running."
   ]
  },
  {
   "cell_type": "code",
   "execution_count": 14,
   "id": "public-riding",
   "metadata": {},
   "outputs": [
    {
     "name": "stderr",
     "output_type": "stream",
     "text": [
      "13it [00:49,  3.80s/it]\n"
     ]
    },
    {
     "ename": "KeyboardInterrupt",
     "evalue": "",
     "output_type": "error",
     "traceback": [
      "\u001b[0;31m---------------------------------------------------------------------------\u001b[0m",
      "\u001b[0;31mKeyboardInterrupt\u001b[0m                         Traceback (most recent call last)",
      "\u001b[0;32m<ipython-input-14-95de5fa91c85>\u001b[0m in \u001b[0;36m<module>\u001b[0;34m\u001b[0m\n\u001b[0;32m----> 1\u001b[0;31m \u001b[0mbrute_force_nearest\u001b[0m\u001b[0;34m(\u001b[0m\u001b[0mpoints\u001b[0m\u001b[0;34m)\u001b[0m\u001b[0;34m\u001b[0m\u001b[0;34m\u001b[0m\u001b[0m\n\u001b[0m",
      "\u001b[0;32m<ipython-input-13-215e3c701e36>\u001b[0m in \u001b[0;36mbrute_force_nearest\u001b[0;34m(coordinates)\u001b[0m\n\u001b[1;32m      6\u001b[0m             \u001b[0;32mif\u001b[0m \u001b[0ma\u001b[0m \u001b[0;34m==\u001b[0m \u001b[0mb\u001b[0m\u001b[0;34m:\u001b[0m\u001b[0;34m\u001b[0m\u001b[0;34m\u001b[0m\u001b[0m\n\u001b[1;32m      7\u001b[0m                 \u001b[0;32mcontinue\u001b[0m\u001b[0;34m\u001b[0m\u001b[0;34m\u001b[0m\u001b[0m\n\u001b[0;32m----> 8\u001b[0;31m             \u001b[0mdist\u001b[0m \u001b[0;34m=\u001b[0m \u001b[0mdistance\u001b[0m\u001b[0;34m(\u001b[0m\u001b[0mcoorA\u001b[0m\u001b[0;34m,\u001b[0m \u001b[0mcoorB\u001b[0m\u001b[0;34m)\u001b[0m\u001b[0;34m.\u001b[0m\u001b[0mkm\u001b[0m\u001b[0;34m\u001b[0m\u001b[0;34m\u001b[0m\u001b[0m\n\u001b[0m\u001b[1;32m      9\u001b[0m             \u001b[0;32mif\u001b[0m \u001b[0mdist\u001b[0m \u001b[0;34m<\u001b[0m \u001b[0mshortest\u001b[0m\u001b[0;34m:\u001b[0m\u001b[0;34m\u001b[0m\u001b[0;34m\u001b[0m\u001b[0m\n\u001b[1;32m     10\u001b[0m                 \u001b[0mL\u001b[0m\u001b[0;34m[\u001b[0m\u001b[0ma\u001b[0m\u001b[0;34m]\u001b[0m \u001b[0;34m=\u001b[0m \u001b[0mb\u001b[0m\u001b[0;34m\u001b[0m\u001b[0;34m\u001b[0m\u001b[0m\n",
      "\u001b[0;32m~/.virtualenvs/py37/lib/python3.7/site-packages/geopy/distance.py\u001b[0m in \u001b[0;36m__init__\u001b[0;34m(self, *args, **kwargs)\u001b[0m\n\u001b[1;32m    414\u001b[0m         \u001b[0mself\u001b[0m\u001b[0;34m.\u001b[0m\u001b[0mset_ellipsoid\u001b[0m\u001b[0;34m(\u001b[0m\u001b[0mkwargs\u001b[0m\u001b[0;34m.\u001b[0m\u001b[0mpop\u001b[0m\u001b[0;34m(\u001b[0m\u001b[0;34m'ellipsoid'\u001b[0m\u001b[0;34m,\u001b[0m \u001b[0;34m'WGS-84'\u001b[0m\u001b[0;34m)\u001b[0m\u001b[0;34m)\u001b[0m\u001b[0;34m\u001b[0m\u001b[0;34m\u001b[0m\u001b[0m\n\u001b[1;32m    415\u001b[0m         \u001b[0mmajor\u001b[0m\u001b[0;34m,\u001b[0m \u001b[0mminor\u001b[0m\u001b[0;34m,\u001b[0m \u001b[0mf\u001b[0m \u001b[0;34m=\u001b[0m \u001b[0mself\u001b[0m\u001b[0;34m.\u001b[0m\u001b[0mELLIPSOID\u001b[0m\u001b[0;34m\u001b[0m\u001b[0;34m\u001b[0m\u001b[0m\n\u001b[0;32m--> 416\u001b[0;31m         \u001b[0msuper\u001b[0m\u001b[0;34m(\u001b[0m\u001b[0;34m)\u001b[0m\u001b[0;34m.\u001b[0m\u001b[0m__init__\u001b[0m\u001b[0;34m(\u001b[0m\u001b[0;34m*\u001b[0m\u001b[0margs\u001b[0m\u001b[0;34m,\u001b[0m \u001b[0;34m**\u001b[0m\u001b[0mkwargs\u001b[0m\u001b[0;34m)\u001b[0m\u001b[0;34m\u001b[0m\u001b[0;34m\u001b[0m\u001b[0m\n\u001b[0m\u001b[1;32m    417\u001b[0m \u001b[0;34m\u001b[0m\u001b[0m\n\u001b[1;32m    418\u001b[0m     \u001b[0;32mdef\u001b[0m \u001b[0mset_ellipsoid\u001b[0m\u001b[0;34m(\u001b[0m\u001b[0mself\u001b[0m\u001b[0;34m,\u001b[0m \u001b[0mellipsoid\u001b[0m\u001b[0;34m)\u001b[0m\u001b[0;34m:\u001b[0m\u001b[0;34m\u001b[0m\u001b[0;34m\u001b[0m\u001b[0m\n",
      "\u001b[0;32m~/.virtualenvs/py37/lib/python3.7/site-packages/geopy/distance.py\u001b[0m in \u001b[0;36m__init__\u001b[0;34m(self, *args, **kwargs)\u001b[0m\n\u001b[1;32m    198\u001b[0m         \u001b[0;32melif\u001b[0m \u001b[0mlen\u001b[0m\u001b[0;34m(\u001b[0m\u001b[0margs\u001b[0m\u001b[0;34m)\u001b[0m \u001b[0;34m>\u001b[0m \u001b[0;36m1\u001b[0m\u001b[0;34m:\u001b[0m\u001b[0;34m\u001b[0m\u001b[0;34m\u001b[0m\u001b[0m\n\u001b[1;32m    199\u001b[0m             \u001b[0;32mfor\u001b[0m \u001b[0ma\u001b[0m\u001b[0;34m,\u001b[0m \u001b[0mb\u001b[0m \u001b[0;32min\u001b[0m \u001b[0mutil\u001b[0m\u001b[0;34m.\u001b[0m\u001b[0mpairwise\u001b[0m\u001b[0;34m(\u001b[0m\u001b[0margs\u001b[0m\u001b[0;34m)\u001b[0m\u001b[0;34m:\u001b[0m\u001b[0;34m\u001b[0m\u001b[0;34m\u001b[0m\u001b[0m\n\u001b[0;32m--> 200\u001b[0;31m                 \u001b[0mkilometers\u001b[0m \u001b[0;34m+=\u001b[0m \u001b[0mself\u001b[0m\u001b[0;34m.\u001b[0m\u001b[0mmeasure\u001b[0m\u001b[0;34m(\u001b[0m\u001b[0ma\u001b[0m\u001b[0;34m,\u001b[0m \u001b[0mb\u001b[0m\u001b[0;34m)\u001b[0m\u001b[0;34m\u001b[0m\u001b[0;34m\u001b[0m\u001b[0m\n\u001b[0m\u001b[1;32m    201\u001b[0m \u001b[0;34m\u001b[0m\u001b[0m\n\u001b[1;32m    202\u001b[0m         \u001b[0mkilometers\u001b[0m \u001b[0;34m+=\u001b[0m \u001b[0munits\u001b[0m\u001b[0;34m.\u001b[0m\u001b[0mkilometers\u001b[0m\u001b[0;34m(\u001b[0m\u001b[0;34m**\u001b[0m\u001b[0mkwargs\u001b[0m\u001b[0;34m)\u001b[0m\u001b[0;34m\u001b[0m\u001b[0;34m\u001b[0m\u001b[0m\n",
      "\u001b[0;32m~/.virtualenvs/py37/lib/python3.7/site-packages/geopy/distance.py\u001b[0m in \u001b[0;36mmeasure\u001b[0;34m(self, a, b)\u001b[0m\n\u001b[1;32m    445\u001b[0m \u001b[0;34m\u001b[0m\u001b[0m\n\u001b[1;32m    446\u001b[0m         s12 = self.geod.Inverse(lat1, lon1, lat2, lon2,\n\u001b[0;32m--> 447\u001b[0;31m                                 Geodesic.DISTANCE)['s12']\n\u001b[0m\u001b[1;32m    448\u001b[0m \u001b[0;34m\u001b[0m\u001b[0m\n\u001b[1;32m    449\u001b[0m         \u001b[0;32mreturn\u001b[0m \u001b[0ms12\u001b[0m\u001b[0;34m\u001b[0m\u001b[0;34m\u001b[0m\u001b[0m\n",
      "\u001b[0;32m~/.virtualenvs/py37/lib/python3.7/site-packages/geographiclib/geodesic.py\u001b[0m in \u001b[0;36mInverse\u001b[0;34m(self, lat1, lon1, lat2, lon2, outmask)\u001b[0m\n\u001b[1;32m   1034\u001b[0m \u001b[0;34m\u001b[0m\u001b[0m\n\u001b[1;32m   1035\u001b[0m     a12, s12, salp1,calp1, salp2,calp2, m12, M12, M21, S12 = self._GenInverse(\n\u001b[0;32m-> 1036\u001b[0;31m       lat1, lon1, lat2, lon2, outmask)\n\u001b[0m\u001b[1;32m   1037\u001b[0m     \u001b[0moutmask\u001b[0m \u001b[0;34m&=\u001b[0m \u001b[0mGeodesic\u001b[0m\u001b[0;34m.\u001b[0m\u001b[0mOUT_MASK\u001b[0m\u001b[0;34m\u001b[0m\u001b[0;34m\u001b[0m\u001b[0m\n\u001b[1;32m   1038\u001b[0m     \u001b[0;32mif\u001b[0m \u001b[0moutmask\u001b[0m \u001b[0;34m&\u001b[0m \u001b[0mGeodesic\u001b[0m\u001b[0;34m.\u001b[0m\u001b[0mLONG_UNROLL\u001b[0m\u001b[0;34m:\u001b[0m\u001b[0;34m\u001b[0m\u001b[0;34m\u001b[0m\u001b[0m\n",
      "\u001b[0;32m~/.virtualenvs/py37/lib/python3.7/site-packages/geographiclib/geodesic.py\u001b[0m in \u001b[0;36m_GenInverse\u001b[0;34m(self, lat1, lon1, lat2, lon2, outmask)\u001b[0m\n\u001b[1;32m    902\u001b[0m               \u001b[0mcalp1\u001b[0m \u001b[0;34m=\u001b[0m \u001b[0mcalp1\u001b[0m \u001b[0;34m*\u001b[0m \u001b[0mcdalp1\u001b[0m \u001b[0;34m-\u001b[0m \u001b[0msalp1\u001b[0m \u001b[0;34m*\u001b[0m \u001b[0msdalp1\u001b[0m\u001b[0;34m\u001b[0m\u001b[0;34m\u001b[0m\u001b[0m\n\u001b[1;32m    903\u001b[0m               \u001b[0msalp1\u001b[0m \u001b[0;34m=\u001b[0m \u001b[0mnsalp1\u001b[0m\u001b[0;34m\u001b[0m\u001b[0;34m\u001b[0m\u001b[0m\n\u001b[0;32m--> 904\u001b[0;31m               \u001b[0msalp1\u001b[0m\u001b[0;34m,\u001b[0m \u001b[0mcalp1\u001b[0m \u001b[0;34m=\u001b[0m \u001b[0mMath\u001b[0m\u001b[0;34m.\u001b[0m\u001b[0mnorm\u001b[0m\u001b[0;34m(\u001b[0m\u001b[0msalp1\u001b[0m\u001b[0;34m,\u001b[0m \u001b[0mcalp1\u001b[0m\u001b[0;34m)\u001b[0m\u001b[0;34m\u001b[0m\u001b[0;34m\u001b[0m\u001b[0m\n\u001b[0m\u001b[1;32m    905\u001b[0m               \u001b[0;31m# In some regimes we don't get quadratic convergence because\u001b[0m\u001b[0;34m\u001b[0m\u001b[0;34m\u001b[0m\u001b[0;34m\u001b[0m\u001b[0m\n\u001b[1;32m    906\u001b[0m               \u001b[0;31m# slope -> 0.  So use convergence conditions based on epsilon\u001b[0m\u001b[0;34m\u001b[0m\u001b[0;34m\u001b[0m\u001b[0;34m\u001b[0m\u001b[0m\n",
      "\u001b[0;31mKeyboardInterrupt\u001b[0m: "
     ]
    }
   ],
   "source": [
    "brute_force_nearest(points)"
   ]
  },
  {
   "cell_type": "markdown",
   "id": "pacific-midwest",
   "metadata": {},
   "source": [
    "**(?)** Can a `Distance` object be compared to a floating/integer number?<br>\n",
    "**(R)** Yes, it can."
   ]
  },
  {
   "cell_type": "code",
   "execution_count": 16,
   "id": "humanitarian-supplier",
   "metadata": {},
   "outputs": [
    {
     "data": {
      "text/plain": [
       "Distance(111.31949079327356)"
      ]
     },
     "execution_count": 16,
     "metadata": {},
     "output_type": "execute_result"
    }
   ],
   "source": [
    "A = (0, -181)\n",
    "B = (0, 180)\n",
    "distance(A, B)"
   ]
  },
  {
   "cell_type": "code",
   "execution_count": 17,
   "id": "composed-mason",
   "metadata": {},
   "outputs": [
    {
     "data": {
      "text/plain": [
       "True"
      ]
     },
     "execution_count": 17,
     "metadata": {},
     "output_type": "execute_result"
    }
   ],
   "source": [
    "distance(A, B) < 112"
   ]
  },
  {
   "cell_type": "code",
   "execution_count": 18,
   "id": "composite-vitamin",
   "metadata": {},
   "outputs": [
    {
     "data": {
      "text/plain": [
       "False"
      ]
     },
     "execution_count": 18,
     "metadata": {},
     "output_type": "execute_result"
    }
   ],
   "source": [
    "distance(A, B) < 110"
   ]
  },
  {
   "cell_type": "code",
   "execution_count": null,
   "id": "chinese-runner",
   "metadata": {},
   "outputs": [],
   "source": []
  }
 ],
 "metadata": {
  "kernelspec": {
   "display_name": "Python 3",
   "language": "python",
   "name": "python3"
  },
  "language_info": {
   "codemirror_mode": {
    "name": "ipython",
    "version": 3
   },
   "file_extension": ".py",
   "mimetype": "text/x-python",
   "name": "python",
   "nbconvert_exporter": "python",
   "pygments_lexer": "ipython3",
   "version": "3.7.8"
  }
 },
 "nbformat": 4,
 "nbformat_minor": 5
}
